{
 "cells": [
  {
   "cell_type": "markdown",
   "metadata": {},
   "source": [
    "# 自動化登入亞州大學校園入口"
   ]
  },
  {
   "cell_type": "markdown",
   "metadata": {},
   "source": [
    "## 設定webdriver和指定頁面"
   ]
  },
  {
   "cell_type": "code",
   "execution_count": 1,
   "metadata": {},
   "outputs": [],
   "source": [
    "from selenium import webdriver\n",
    "from selenium.webdriver.common.keys import Keys\n",
    "import time"
   ]
  },
  {
   "cell_type": "code",
   "execution_count": 2,
   "metadata": {},
   "outputs": [
    {
     "name": "stderr",
     "output_type": "stream",
     "text": [
      "C:\\Users\\km2009\\anaconda3\\lib\\site-packages\\ipykernel_launcher.py:3: DeprecationWarning: executable_path has been deprecated, please pass in a Service object\n",
      "  This is separate from the ipykernel package so we can avoid doing imports until\n"
     ]
    },
    {
     "name": "stdout",
     "output_type": "stream",
     "text": [
      "網址設定成功\n"
     ]
    }
   ],
   "source": [
    "url = 'https://cip.asia.edu.tw/login.php'\n",
    "\n",
    "browser=webdriver.Chrome('D:\\webdriver\\chromedriver')\n",
    "browser.get(url)\n",
    "print(\"網址設定成功\")"
   ]
  },
  {
   "cell_type": "markdown",
   "metadata": {},
   "source": [
    "## 截圖"
   ]
  },
  {
   "cell_type": "code",
   "execution_count": 3,
   "metadata": {},
   "outputs": [
    {
     "name": "stderr",
     "output_type": "stream",
     "text": [
      "C:\\Users\\km2009\\anaconda3\\lib\\site-packages\\selenium\\webdriver\\remote\\webdriver.py:1316: UserWarning: name used for saved screenshot does not match file type. It should end with a `.png` extension\n",
      "  \"type. It should end with a `.png` extension\", UserWarning)\n"
     ]
    },
    {
     "name": "stdout",
     "output_type": "stream",
     "text": [
      "screenshot down!\n"
     ]
    }
   ],
   "source": [
    "browser.save_screenshot('screen.jpg')\n",
    "print(\"screenshot down!\")"
   ]
  },
  {
   "cell_type": "markdown",
   "metadata": {},
   "source": [
    "## 驗證碼圖片定位並截圖\n",
    "透過selenium來抓取驗證碼的位置，並利用上面的截圖來定位驗證碼位置做裁切。"
   ]
  },
  {
   "cell_type": "code",
   "execution_count": 4,
   "metadata": {
    "scrolled": true
   },
   "outputs": [
    {
     "name": "stderr",
     "output_type": "stream",
     "text": [
      "C:\\Users\\km2009\\anaconda3\\lib\\site-packages\\ipykernel_launcher.py:1: DeprecationWarning: find_element_by_* commands are deprecated. Please use find_element() instead\n",
      "  \"\"\"Entry point for launching an IPython kernel.\n"
     ]
    }
   ],
   "source": [
    "element = browser.find_element_by_xpath(\"(//section[@id='main']//img)[2]\")"
   ]
  },
  {
   "cell_type": "code",
   "execution_count": 5,
   "metadata": {},
   "outputs": [
    {
     "data": {
      "text/plain": [
       "{'x': 310, 'y': 465}"
      ]
     },
     "execution_count": 5,
     "metadata": {},
     "output_type": "execute_result"
    }
   ],
   "source": [
    "element.location"
   ]
  },
  {
   "cell_type": "code",
   "execution_count": 6,
   "metadata": {},
   "outputs": [
    {
     "data": {
      "text/plain": [
       "{'height': 30, 'width': 120}"
      ]
     },
     "execution_count": 6,
     "metadata": {},
     "output_type": "execute_result"
    }
   ],
   "source": [
    "element.size"
   ]
  },
  {
   "cell_type": "code",
   "execution_count": 7,
   "metadata": {},
   "outputs": [],
   "source": [
    "left = element.location['x']\n",
    "top = element.location['y']\n",
    "right = left + element.size['width']\n",
    "bottom = top + element.size['height']"
   ]
  },
  {
   "cell_type": "code",
   "execution_count": 8,
   "metadata": {},
   "outputs": [
    {
     "data": {
      "text/plain": [
       "(310, 430, 465, 495)"
      ]
     },
     "execution_count": 8,
     "metadata": {},
     "output_type": "execute_result"
    }
   ],
   "source": [
    "left, right, top, bottom"
   ]
  },
  {
   "cell_type": "code",
   "execution_count": 9,
   "metadata": {},
   "outputs": [],
   "source": [
    "from PIL import Image\n",
    "img  = Image.open('screen.jpg')"
   ]
  },
  {
   "cell_type": "code",
   "execution_count": 10,
   "metadata": {},
   "outputs": [],
   "source": [
    "img = img.crop((left, top, right, bottom))"
   ]
  },
  {
   "cell_type": "code",
   "execution_count": 11,
   "metadata": {},
   "outputs": [
    {
     "data": {
      "image/png": "[encoded data removed]",
      "text/plain": [
       "<PIL.Image.Image image mode=RGB size=120x30 at 0x1C7B7CD7FC8>"
      ]
     },
     "execution_count": 11,
     "metadata": {},
     "output_type": "execute_result"
    }
   ],
   "source": [
    "img = img.convert(\"RGB\") # 處理RBGA的通道數問題，Bug:OSError: cannot write mode RGBA as JPEG <----JPEG不存在A通道\n",
    "\n",
    "img"
   ]
  },
  {
   "cell_type": "code",
   "execution_count": 12,
   "metadata": {},
   "outputs": [],
   "source": [
    "img.save('numbercheck.jpg', 'jpeg')"
   ]
  },
  {
   "cell_type": "markdown",
   "metadata": {},
   "source": [
    "## 驗證碼數字處理\n",
    "採用像素閥值的原理來處理雜訊，當超過這個像素閥值時，就直接將他漆成黑色，若沒有超過則直接變白色。"
   ]
  },
  {
   "cell_type": "code",
   "execution_count": 13,
   "metadata": {},
   "outputs": [],
   "source": [
    "img = img.convert(\"L\")  # 將圖片轉成灰階\n",
    "pix_img = img.load()\n",
    "w, h = img.size\n",
    "threshold = 205 #像素閥值\n",
    "for y in range(h):    #for迴圈將每個像素點進行判斷\n",
    "    for x in range(w):\n",
    "        if pix_img[x, y] < threshold:\n",
    "            pix_img[x, y] = 0\n",
    "        else:\n",
    "            pix_img[x, y] = 255"
   ]
  },
  {
   "cell_type": "code",
   "execution_count": 14,
   "metadata": {},
   "outputs": [],
   "source": [
    "# 將經過閥值處理的像素重新生成圖片\n",
    "data = img.getdata()\n",
    "w, h = img.size\n",
    "black_point = 0\n",
    "for x in range(1, w - 1):\n",
    "    for y in range(1, h - 1):\n",
    "        mid_pixel = data[w * y + x]\n",
    "        if mid_pixel < 50:\n",
    "            top_pixel = data[w * (y - 1) + x]\n",
    "            left_pixel = data[w * y + (x - 1)]\n",
    "            down_pixel = data[w * (y + 1) + x]\n",
    "            right_pixel = data[w * y + (x + 1)]\n",
    "            if top_pixel < 10:\n",
    "                black_point += 1\n",
    "            if left_pixel < 10:\n",
    "                black_point += 1\n",
    "            if down_pixel < 10:\n",
    "                black_point += 1\n",
    "            if right_pixel < 10:\n",
    "                black_point += 1\n",
    "            if black_point < 1:\n",
    "                img.putpixel((x, y), 255)\n",
    "            black_point = 0\n"
   ]
  },
  {
   "cell_type": "code",
   "execution_count": 15,
   "metadata": {},
   "outputs": [
    {
     "data": {
      "image/png": "[encoded data removed]",
      "text/plain": [
       "<PIL.Image.Image image mode=L size=120x30 at 0x1C7B7CEAF48>"
      ]
     },
     "execution_count": 15,
     "metadata": {},
     "output_type": "execute_result"
    }
   ],
   "source": [
    "img"
   ]
  },
  {
   "cell_type": "markdown",
   "metadata": {},
   "source": [
    "## 使用google的文字辨識引擎(pytesseract)來進行處理\n",
    "安裝步驟：https://blog.csdn.net/Castlehe/article/details/118751833"
   ]
  },
  {
   "cell_type": "code",
   "execution_count": 16,
   "metadata": {},
   "outputs": [
    {
     "name": "stdout",
     "output_type": "stream",
     "text": [
      "pytesseract 設定ok\n",
      "96601\n",
      "\n",
      "\n"
     ]
    }
   ],
   "source": [
    "import pytesseract\n",
    "pytesseract.pytesseract.tesseract_cmd = r'C:\\Program Files (x86)\\Tesseract-OCR\\tesseract.exe' #設定位址\n",
    "print(\"pytesseract 設定ok\")\n",
    "result = pytesseract.image_to_string(img)\n",
    "regex = '\\d+'\n",
    "result = result.replace(\" \", \"\") #去除空格，以免造成有'29 1316'這種中間空一格的情形\n",
    "print(result)"
   ]
  },
  {
   "cell_type": "markdown",
   "metadata": {},
   "source": [
    "## 透過selenium將帳號密碼以及驗證碼輸至正確位置上"
   ]
  },
  {
   "cell_type": "code",
   "execution_count": 17,
   "metadata": {},
   "outputs": [
    {
     "name": "stderr",
     "output_type": "stream",
     "text": [
      "C:\\Users\\km2009\\anaconda3\\lib\\site-packages\\ipykernel_launcher.py:4: DeprecationWarning: find_element_by_* commands are deprecated. Please use find_element() instead\n",
      "  after removing the cwd from sys.path.\n",
      "C:\\Users\\km2009\\anaconda3\\lib\\site-packages\\ipykernel_launcher.py:7: DeprecationWarning: find_element_by_* commands are deprecated. Please use find_element() instead\n",
      "  import sys\n"
     ]
    },
    {
     "name": "stdout",
     "output_type": "stream",
     "text": [
      "done\n"
     ]
    },
    {
     "name": "stderr",
     "output_type": "stream",
     "text": [
      "C:\\Users\\km2009\\anaconda3\\lib\\site-packages\\ipykernel_launcher.py:10: DeprecationWarning: find_element_by_* commands are deprecated. Please use find_element() instead\n",
      "  # Remove the CWD from sys.path while we load stuff.\n"
     ]
    }
   ],
   "source": [
    "try:\n",
    "   # login\n",
    "   time.sleep(3)\n",
    "   element = browser.find_element_by_xpath(\"//input[@class='inputword']\")\n",
    "   element.send_keys('我的學號')\n",
    "   time.sleep(3)\n",
    "   element = browser.find_element_by_xpath(\"(//input[@class='inputword'])[2]\")\n",
    "   element.send_keys('我的密碼')\n",
    "   time.sleep(3)\n",
    "   element = browser.find_element_by_xpath(\"(//input[@class='inputword'])[3]\")\n",
    "   element.send_keys(result)\n",
    "#    browser.find_element_by_xpath(\"//ul[@class='actions']//a\").click()\n",
    "#    time.sleep(5)\n",
    "finally:\n",
    "        print(\"done\")"
   ]
  },
  {
   "cell_type": "code",
   "execution_count": 18,
   "metadata": {},
   "outputs": [],
   "source": [
    "browser.quit()"
   ]
  },
  {
   "cell_type": "code",
   "execution_count": null,
   "metadata": {},
   "outputs": [],
   "source": []
  }
 ],
 "metadata": {
  "kernelspec": {
   "display_name": "Python 3",
   "language": "python",
   "name": "python3"
  },
  "language_info": {
   "codemirror_mode": {
    "name": "ipython",
    "version": 3
   },
   "file_extension": ".py",
   "mimetype": "text/x-python",
   "name": "python",
   "nbconvert_exporter": "python",
   "pygments_lexer": "ipython3",
   "version": "3.7.6"
  }
 },
 "nbformat": 4,
 "nbformat_minor": 4
}
